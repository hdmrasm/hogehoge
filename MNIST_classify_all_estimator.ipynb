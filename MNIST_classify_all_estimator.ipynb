{
 "cells": [
  {
   "cell_type": "markdown",
   "metadata": {},
   "source": [
    "# 機械学習入門〜手書き数字認識をいろんなモデルで試してみる〜"
   ]
  },
  {
   "cell_type": "markdown",
   "metadata": {},
   "source": [
    "## やりたいこと\n",
    "数多ある機械学習手法のなかでスタンダードないくつかのモデルを用いて手書き数字データセット(MNIST)を学習し、評価してみる\n",
    "### まずはライブラリのインポートから"
   ]
  },
  {
   "cell_type": "code",
   "execution_count": null,
   "metadata": {},
   "outputs": [],
   "source": [
    "#coding: utf-8\n",
    "import numpy as np\n",
    "import matplotlib.pyplot as plt\n",
    "%matplotlib inline\n",
    "from sklearn.metrics import accuracy_score\n",
    "from sklearn.utils import testing\n",
    "from keras.datasets import mnist"
   ]
  },
  {
   "cell_type": "code",
   "execution_count": null,
   "metadata": {},
   "outputs": [],
   "source": [
    "#手書き文字のダウンロード\n",
    "(x_train, y_train), (x_test, y_test) = mnist.load_data()"
   ]
  },
  {
   "cell_type": "markdown",
   "metadata": {},
   "source": [
    "### ダウンロードしたデータ内訳\n",
    "x_train: モデルに学習させるデータセット(28*28のグレースケール画像データ)  \n",
    "y_train: 学習させるデータセットの答え(0~9の整数)  \n",
    "x_test: 学習を評価するためのデータセット  \n",
    "y_test: x_testの答え  \n",
    "### データの形状を確認する"
   ]
  },
  {
   "cell_type": "code",
   "execution_count": null,
   "metadata": {},
   "outputs": [],
   "source": [
    "print(\"x_train:\", x_train.shape)\n",
    "print(\"y_train:\", y_train.shape)\n",
    "print(\"x_test:\", x_test.shape)\n",
    "print(\"y_test:\", y_test.shape)"
   ]
  },
  {
   "cell_type": "markdown",
   "metadata": {},
   "source": [
    "データ形状からわかるようにMNISTでは学習モデルに与えるデータが60000、学習した結果を評価するために必要なデータが10000ある。  \n",
    "### なぜ評価用のデータが必要なの？\n",
    "学習したデータだけでそのモデルを評価してしまうと、与えられたデータだけに特化しているのか、他のデータでも同程度の精度で推論できているかがわからないため  \n",
    "このように、学習データのみにモデルの推論が特化してしまうことを<b>過学習</b>という。\n",
    "\n",
    "<img src=\"MNIST_LT_1.png\">\n",
    "### MNISTの画像を見てみよう\n",
    "最初に`import matplotlib.pyplot as plt`としたのはグラフ描画ライブラリである`matplotlib`をインポートするため。  \n",
    "これにより簡単にグラフや画像を表示することができる。  \n",
    "試しに訓練データの１番目の画像データを表示してみる"
   ]
  },
  {
   "cell_type": "code",
   "execution_count": null,
   "metadata": {},
   "outputs": [],
   "source": [
    "fig = plt.figure(figsize=((6,6)))\n",
    "for i in range(1, 26):\n",
    "    ax = fig.add_subplot(5, 5, i)   #5*5に画像を配列したi番目の位置にプロットする\n",
    "    ax.axis(\"off\")    #目盛りをなくす\n",
    "    ax.imshow(x_train[i-1], cmap=\"gray\")    #画像を表示"
   ]
  },
  {
   "cell_type": "markdown",
   "metadata": {},
   "source": [
    "### 学習の前に…データを整える\n",
    "画像データは0~255の整数値をとる28*28の配列が並んでいる  \n",
    "これでは範囲が大きすぎてモデルにとって都合が悪い場合があるので、0~1の範囲にすべて収める"
   ]
  },
  {
   "cell_type": "code",
   "execution_count": null,
   "metadata": {},
   "outputs": [],
   "source": [
    "x_train = x_train / 255\n",
    "x_test = x_test / 255\n",
    "x_train = x_train.reshape(60000, 784)\n",
    "x_test = x_test.reshape(10000, 784)\n",
    "print(x_train.shape)"
   ]
  },
  {
   "cell_type": "markdown",
   "metadata": {},
   "source": [
    "## 今回試したい学習モデル\n",
    "- Dicision Tree(決定木)\n",
    "- Random Forest\n",
    "- Neural Network\n",
    "\n",
    "## Dicision Tree(決定木)\n",
    "ある条件を用いて分岐していき、最終的な推論を行う。過学習する傾向があるが、理解しやすい。木の深さや葉の数などを適切に決める必要がある。\n",
    "<img src=\"11.png\">\n"
   ]
  },
  {
   "cell_type": "code",
   "execution_count": null,
   "metadata": {},
   "outputs": [],
   "source": [
    "from sklearn.tree import DecisionTreeClassifier as DTC\n",
    "tree = DTC()\n",
    "tree.fit(x_train, y_train)\n",
    "print(\"Decision Tree score:\", tree.score(x_test, y_test))"
   ]
  },
  {
   "cell_type": "code",
   "execution_count": null,
   "metadata": {
    "scrolled": true
   },
   "outputs": [],
   "source": [
    "pred_tree = tree.predict(x_test)\n",
    "error = 0\n",
    "for i in range(y_test.shape[0]):\n",
    "    if pred_tree[i] != y_test[i]:\n",
    "        error += 1\n",
    "        print(\"predict:{}\\t correct:{}\".format(pred_tree[i], y_test[i]))\n",
    "        plt.imshow(x_test[i].reshape(28, 28), cmap=\"gray\")\n",
    "        plt.axis(\"off\")\n",
    "        plt.show()\n",
    "        if error >= 10:\n",
    "            break"
   ]
  },
  {
   "cell_type": "markdown",
   "metadata": {},
   "source": [
    "## Random Forest  \n",
    "決定木を大量に用いて推論を平均する。決定木１本では過学習しやすいが、大量の過学習した木を集め、平均を取れば、テストデータに対しても高い精度を出すことができる。このような手法を<b>アンサンブル学習</b>という。\n",
    "<img src=\"RandomForest.png\">"
   ]
  },
  {
   "cell_type": "code",
   "execution_count": null,
   "metadata": {},
   "outputs": [],
   "source": [
    "from sklearn.ensemble import RandomForestClassifier as RFC\n",
    "forest = RFC()\n",
    "forest.fit(x_train, y_train)\n",
    "print(\"Random Forest score:\", forest.score(x_test, y_test))"
   ]
  },
  {
   "cell_type": "code",
   "execution_count": null,
   "metadata": {},
   "outputs": [],
   "source": [
    "pred_RF = forest.predict(x_test)\n",
    "error = 0\n",
    "for i in range(y_test.shape[0]):\n",
    "    if pred_RF[i] != y_test[i]:\n",
    "        error += 1\n",
    "        print(\"predict:{}\\t correct:{}\".format(pred_RF[i], y_test[i]))\n",
    "        plt.imshow(x_test[i].reshape(28, 28), cmap=\"gray\")\n",
    "        plt.axis(\"off\")\n",
    "        plt.show()\n",
    "        if error >= 10:\n",
    "            break"
   ]
  },
  {
   "cell_type": "markdown",
   "metadata": {},
   "source": [
    "## Neural Network\n",
    "いわゆるディープラーニング。大量のニューロンと呼ばれるものを用いて段階的に精度を上げていく。画像認識や自然言語処理に強いが、いくつかのパラメータをうまく設定する必要がある。\n",
    "<img src=\"neural_net.png\">"
   ]
  },
  {
   "cell_type": "code",
   "execution_count": null,
   "metadata": {},
   "outputs": [],
   "source": [
    "from keras.models import Sequential\n",
    "from keras.layers import Conv2D, MaxPooling2D\n",
    "from keras.layers import Activation, Dropout, Flatten, Dense\n",
    "from keras.optimizers import Adam\n",
    "from keras.utils import np_utils\n",
    "#60000*784の訓練データandテストデータを60000*28*28に整形（NNは画像（２次元配列）として読み込むことができる）\n",
    "x_train = x_train.reshape(60000, 28, 28, 1)\n",
    "x_test = x_test.reshape(10000, 28, 28, 1)\n",
    "y_train = np_utils.to_categorical(y_train)\n",
    "y_test = np_utils.to_categorical(y_test)\n",
    "#ニューラルネットワークモデルの生成\n",
    "model = Sequential()    #インスタンス生成\n",
    "model.add(Conv2D(16, (3, 3), input_shape=(28, 28, 1), activation=\"relu\"))\n",
    "model.add(Conv2D(32, (3, 3), activation=\"relu\"))\n",
    "model.add(MaxPooling2D(pool_size=(2, 2)))\n",
    "model.add(Conv2D(64, (3, 3), activation=\"relu\"))\n",
    "model.add(MaxPooling2D(pool_size=(2, 2)))\n",
    "model.add(Dropout(0.25))\n",
    "\n",
    "model.add(Flatten())\n",
    "model.add(Dense(128, activation=\"relu\"))\n",
    "model.add(Dropout(0.25))\n",
    "model.add(Dense(10, activation=\"softmax\"))\n",
    "\n",
    "model.compile(loss=\"categorical_crossentropy\", optimizer=Adam(), metrics=[\"accuracy\"])\n",
    "model.summary()\n",
    "\n",
    "print(x_train)"
   ]
  },
  {
   "cell_type": "code",
   "execution_count": null,
   "metadata": {},
   "outputs": [],
   "source": [
    "#学習\n",
    "history = model.fit(x_train, y_train, batch_size=1000, epochs=20, verbose=1, validation_split=0.1)\n",
    "pred_NN = model.predict(x_test)\n",
    "pred_NN = np.where(pred_NN < 0.5, 0, 1)"
   ]
  },
  {
   "cell_type": "code",
   "execution_count": null,
   "metadata": {},
   "outputs": [],
   "source": [
    "for i in range(y_test.shape[0]):\n",
    "    if not np.allclose(pred_NN[i], y_test[i]):\n",
    "        error += 1\n",
    "        print(\"predict:{}\\t correct:{}\".format(np.argmax(pred_NN[i]+1), np.argmax(y_test[i]+1)))\n",
    "        plt.imshow(x_test[i].reshape(28, 28), cmap=\"gray\")\n",
    "        plt.axis(\"off\")\n",
    "        plt.show()\n",
    "        if error >= 10:\n",
    "            break"
   ]
  }
 ],
 "metadata": {
  "kernelspec": {
   "display_name": "Python 3",
   "language": "python",
   "name": "python3"
  },
  "language_info": {
   "codemirror_mode": {
    "name": "ipython",
    "version": 3
   },
   "file_extension": ".py",
   "mimetype": "text/x-python",
   "name": "python",
   "nbconvert_exporter": "python",
   "pygments_lexer": "ipython3",
   "version": "3.6.6"
  }
 },
 "nbformat": 4,
 "nbformat_minor": 2
}
